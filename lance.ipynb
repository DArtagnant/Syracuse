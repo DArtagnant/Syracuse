{
 "cells": [
  {
   "cell_type": "code",
   "execution_count": 23,
   "metadata": {},
   "outputs": [
    {
     "name": "stdout",
     "output_type": "stream",
     "text": [
      "Warning: Cannot change to a different GUI toolkit: widget. Using qt instead.\n"
     ]
    }
   ],
   "source": [
    "from syracuse import SyracuseNum\n",
    "from app_syracuse import app_syracuse\n",
    "\n",
    "import matplotlib.pyplot as plt\n",
    "\n",
    "\n",
    "def super_syracuse(num_max):\n",
    "\n",
    "    vols = []\n",
    "    alts = []\n",
    "\n",
    "    for num in range(1, num_max+1):\n",
    "        s = SyracuseNum(num)\n",
    "        vols.append(s.vol)\n",
    "        alts.append(s.alt)\n",
    "\n",
    "    fig = plt.figure()\n",
    "\n",
    "    ax1 = plt.subplot(231)\n",
    "    ax1.plot(range(len(alts)), alts)\n",
    "    ax1.set_title(\"altitude en fonction du nombre\")\n",
    "\n",
    "    ax2 = plt.subplot(234)\n",
    "    ax2.plot(range(len(vols)), vols)\n",
    "    ax2.set_title(\"vol en fonction du nombre\")\n",
    "\n",
    "    ax2 = plt.subplot(1, 3, (2, 3))\n",
    "    update = app_syracuse(1, fig, ax2, show=False)\n",
    "    ax2.set_title(\"Syracuse pour n = 1\")\n",
    "\n",
    "    def onclick(event):\n",
    "\n",
    "        \"\"\"\n",
    "        print('%s click: button=%d, x=%d, y=%d, xdata=%f, ydata=%f' %\n",
    "            ('double' if event.dblclick else 'single', event.button,\n",
    "            event.x, event.y, event.xdata, event.ydata))\n",
    "        \"\"\"\n",
    "        if (not event.dblclick) and event.button == 3:\n",
    "            update(round(event.xdata))\n",
    "\n",
    "    cid = fig.canvas.mpl_connect('button_press_event', onclick)\n",
    "\n",
    "    plt.show()\n",
    "\n",
    "if __name__ == \"__main__\":\n",
    "    super_syracuse(100)"
   ]
  }
 ],
 "metadata": {
  "kernelspec": {
   "display_name": "Python 3.10.6 64-bit",
   "language": "python",
   "name": "python3"
  },
  "language_info": {
   "codemirror_mode": {
    "name": "ipython",
    "version": 3
   },
   "file_extension": ".py",
   "mimetype": "text/x-python",
   "name": "python",
   "nbconvert_exporter": "python",
   "pygments_lexer": "ipython3",
   "version": "3.10.6"
  },
  "orig_nbformat": 4,
  "vscode": {
   "interpreter": {
    "hash": "3057e318af7e395181910ed0a9087024fa19b58274ca2ebd545f00dacf88aab5"
   }
  }
 },
 "nbformat": 4,
 "nbformat_minor": 2
}
